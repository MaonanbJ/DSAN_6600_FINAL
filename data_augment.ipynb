{
 "cells": [
  {
   "cell_type": "markdown",
   "metadata": {},
   "source": [
    "#### Count the amount of pictures in each category"
   ]
  },
  {
   "cell_type": "code",
   "execution_count": 1,
   "metadata": {},
   "outputs": [
    {
     "name": "stdout",
     "output_type": "stream",
     "text": [
      "c:\\Users\\z7567\\Documents\\GitHub\\DSAN_6600_FINAL\\Data\n",
      "['c:\\\\Users\\\\z7567\\\\Documents\\\\GitHub\\\\DSAN_6600_FINAL\\\\Data\\\\Mild_Dementia', 'c:\\\\Users\\\\z7567\\\\Documents\\\\GitHub\\\\DSAN_6600_FINAL\\\\Data\\\\Mild_Dementia_Choice', 'c:\\\\Users\\\\z7567\\\\Documents\\\\GitHub\\\\DSAN_6600_FINAL\\\\Data\\\\Mild_Dementia_Test', 'c:\\\\Users\\\\z7567\\\\Documents\\\\GitHub\\\\DSAN_6600_FINAL\\\\Data\\\\Moderate_Dementia', 'c:\\\\Users\\\\z7567\\\\Documents\\\\GitHub\\\\DSAN_6600_FINAL\\\\Data\\\\Moderate_Dementia_Choice', 'c:\\\\Users\\\\z7567\\\\Documents\\\\GitHub\\\\DSAN_6600_FINAL\\\\Data\\\\Non_Dementia', 'c:\\\\Users\\\\z7567\\\\Documents\\\\GitHub\\\\DSAN_6600_FINAL\\\\Data\\\\Non_Dementia_Choice', 'c:\\\\Users\\\\z7567\\\\Documents\\\\GitHub\\\\DSAN_6600_FINAL\\\\Data\\\\Non_Dementia_Test', 'c:\\\\Users\\\\z7567\\\\Documents\\\\GitHub\\\\DSAN_6600_FINAL\\\\Data\\\\Very_Mild_Dementia', 'c:\\\\Users\\\\z7567\\\\Documents\\\\GitHub\\\\DSAN_6600_FINAL\\\\Data\\\\Very_Mild_Dementia_Choice', 'c:\\\\Users\\\\z7567\\\\Documents\\\\GitHub\\\\DSAN_6600_FINAL\\\\Data\\\\Very_Mild_Dementia_Test']\n"
     ]
    }
   ],
   "source": [
    "import cv2\n",
    "import numpy as np\n",
    "import os\n",
    "import random\n",
    "import shutil\n",
    "\n",
    "folder_path = os.getcwd()\n",
    "print(folder_path)\n",
    "subfolders = [f.path for f in os.scandir(folder_path) if f.is_dir()]\n",
    "print(subfolders)"
   ]
  },
  {
   "cell_type": "code",
   "execution_count": 2,
   "metadata": {},
   "outputs": [
    {
     "name": "stdout",
     "output_type": "stream",
     "text": [
      "Mild_Dementia 4122\n",
      "Mild_Dementia_Choice 880\n",
      "Mild_Dementia_Test 0\n",
      "Moderate_Dementia 48\n",
      "Moderate_Dementia_Choice 880\n",
      "Non_Dementia 66342\n",
      "Non_Dementia_Choice 880\n",
      "Non_Dementia_Test 0\n",
      "Very_Mild_Dementia 12845\n",
      "Very_Mild_Dementia_Choice 880\n",
      "Very_Mild_Dementia_Test 0\n"
     ]
    }
   ],
   "source": [
    "for subfolder in subfolders:\n",
    "    count = len([name for name in os.listdir(subfolder) if os.path.isfile(os.path.join(subfolder, name))])\n",
    "    print( f'{os.path.basename(subfolder)}', count)"
   ]
  },
  {
   "cell_type": "markdown",
   "metadata": {},
   "source": [
    "Due to the sample size of Moderate Dementia and the performance of our GPU, Select 10%, 48 images for Moderate dementia. For other categories, the size of train set is limited at 440 * 2 = 880 to make balance with the size of training set of the Moderate. Size of test size can be choose very large. Select images for training and validation. And select another images for testing."
   ]
  },
  {
   "cell_type": "code",
   "execution_count": 3,
   "metadata": {},
   "outputs": [],
   "source": [
    "def choose_imgs(folder_path, output_path, num, remove=False):\n",
    "    all_files = os.listdir(folder_path)\n",
    "    files = random.sample(all_files, num)\n",
    "\n",
    "    for file_name in files:\n",
    "        source_file_path = os.path.join(folder_path, file_name)\n",
    "        destination_file_path = os.path.join(output_path, file_name)\n",
    "        shutil.copyfile(source_file_path, destination_file_path)\n",
    "        # Remove the images that have been chosen as training data, then the rest will be used as testing data\n",
    "        if remove:\n",
    "            os.remove(source_file_path)"
   ]
  },
  {
   "cell_type": "code",
   "execution_count": null,
   "metadata": {},
   "outputs": [],
   "source": [
    "os.makedirs('Non_Dementia_Choice')\n",
    "os.makedirs('Mild_Dementia_Choice')\n",
    "os.makedirs('Moderate_Dementia_Choice')\n",
    "os.makedirs('Very_Mild_Dementia_Choice')"
   ]
  },
  {
   "cell_type": "code",
   "execution_count": 6,
   "metadata": {},
   "outputs": [],
   "source": [
    "choose_imgs('Non_Dementia', 'Non_Dementia_Choice', 880, remove=True)\n",
    "choose_imgs('Mild_Dementia', 'Mild_Dementia_Choice', 880, remove=True)\n",
    "choose_imgs('Very_Mild_Dementia','Very_Mild_Dementia_Choice', 880, remove=True)\n",
    "choose_imgs('Moderate_Dementia','Moderate_Dementia_Choice', 440, remove=True)"
   ]
  },
  {
   "cell_type": "code",
   "execution_count": null,
   "metadata": {},
   "outputs": [],
   "source": [
    "os.makedirs('Non_Dementia_Test')\n",
    "os.makedirs('Mild_Dementia_Test')\n",
    "os.makedirs('Very_Mild_Dementia_Test')"
   ]
  },
  {
   "cell_type": "code",
   "execution_count": 4,
   "metadata": {},
   "outputs": [],
   "source": [
    "choose_imgs('Non_Dementia', 'Non_Dementia_Test', 400)\n",
    "choose_imgs('Mild_Dementia', 'Mild_Dementia_Test', 400)\n",
    "choose_imgs('Very_Mild_Dementia','Very_Mild_Dementia_Test', 400)"
   ]
  },
  {
   "cell_type": "markdown",
   "metadata": {},
   "source": [
    "We can see the amount of pictures in each category is not balanced.  We can solve this problem by using data augmentation."
   ]
  },
  {
   "cell_type": "markdown",
   "metadata": {},
   "source": [
    "#### Data Augmentation"
   ]
  },
  {
   "cell_type": "code",
   "execution_count": 7,
   "metadata": {},
   "outputs": [],
   "source": [
    "from PIL import Image, ImageEnhance, ImageOps"
   ]
  },
  {
   "cell_type": "code",
   "execution_count": 8,
   "metadata": {},
   "outputs": [],
   "source": [
    "def augment_image(folder_path, aug_path, aug_num): # Augment image\n",
    "\n",
    "    # Randomly decide which augmentations to apply\n",
    "    decide_list = [False, False, False, False, False]\n",
    "    indices = random.sample(range(5), aug_num)\n",
    "    for i in indices:\n",
    "        decide_list[i] = True\n",
    "    files = os.listdir(folder_path)\n",
    "    for file_name in files:\n",
    "        if file_name.endswith(('png', 'jpg', 'jpeg', 'gif')):\n",
    "            file_path = os.path.join(folder_path, file_name)\n",
    "            img = Image.open(file_path)\n",
    "            original_file_name, ext = os.path.splitext(file_name)\n",
    "            original_size = img.size\n",
    "        if decide_list[0]:\n",
    "            # Rotate\n",
    "            angle = random.randint(-45, 45) \n",
    "            augmented_img = img.rotate(angle, expand=True)\n",
    "            # Keep the original size\n",
    "            augmented_img = augmented_img.resize(original_size)\n",
    "            augmented_file_path = os.path.join(aug_path, f\"{original_file_name}_rotate{ext}\")\n",
    "            augmented_img.save(augmented_file_path)\n",
    "        if decide_list[1]:\n",
    "            # Crop\n",
    "            left = random.randint(0, original_size[0] // 2)\n",
    "            top = random.randint(0, original_size[1] // 2)\n",
    "            right = random.randint(original_size[0] // 2, original_size[0])\n",
    "            bottom = random.randint(original_size[1] // 2, original_size[1])\n",
    "            augmented_img = img.crop((left, top, right, bottom))\n",
    "            # Keep the original size\n",
    "            augmented_img = augmented_img.resize(original_size)\n",
    "            augmented_file_path = os.path.join(aug_path, f\"{original_file_name}_crop{ext}\")\n",
    "            augmented_img.save(augmented_file_path)\n",
    "        if decide_list[2]: \n",
    "            # Brightness\n",
    "            factor = random.uniform(0.5, 1.5)\n",
    "            enhancer = ImageEnhance.Brightness(img)\n",
    "            augmented_img = enhancer.enhance(factor)\n",
    "            augmented_file_path = os.path.join(aug_path, f\"{original_file_name}_bright{ext}\")\n",
    "            augmented_img.save(augmented_file_path)\n",
    "        if decide_list[3]: \n",
    "            # Mirror\n",
    "            augmented_img = ImageOps.mirror(img)\n",
    "            augmented_file_path = os.path.join(aug_path, f\"{original_file_name}_mirror{ext}\")\n",
    "            augmented_img.save(augmented_file_path)\n",
    "        if decide_list[4]:\n",
    "            # Color\n",
    "            factor = random.uniform(0.5, 1.5)\n",
    "            enhancer = ImageEnhance.Color(img)\n",
    "            transformed_img = enhancer.enhance(factor)\n",
    "            transformed_file_path = os.path.join(aug_path, f\"{original_file_name}_color{ext}\")\n",
    "            transformed_img.save(transformed_file_path)\n"
   ]
  },
  {
   "cell_type": "code",
   "execution_count": 14,
   "metadata": {},
   "outputs": [],
   "source": [
    "augment_image('Moderate_Dementia_Choice','Moderate_Dementia_Choice', 1)"
   ]
  },
  {
   "cell_type": "markdown",
   "metadata": {},
   "source": [
    "Now we can see the amount of pictures in each category."
   ]
  },
  {
   "cell_type": "code",
   "execution_count": 15,
   "metadata": {},
   "outputs": [
    {
     "name": "stdout",
     "output_type": "stream",
     "text": [
      "['c:\\\\Users\\\\z7567\\\\Documents\\\\GitHub\\\\DSAN_6600_FINAL\\\\Data\\\\Mild_Dementia', 'c:\\\\Users\\\\z7567\\\\Documents\\\\GitHub\\\\DSAN_6600_FINAL\\\\Data\\\\Mild_Dementia_Choice', 'c:\\\\Users\\\\z7567\\\\Documents\\\\GitHub\\\\DSAN_6600_FINAL\\\\Data\\\\Moderate_Dementia', 'c:\\\\Users\\\\z7567\\\\Documents\\\\GitHub\\\\DSAN_6600_FINAL\\\\Data\\\\Moderate_Dementia_Choice', 'c:\\\\Users\\\\z7567\\\\Documents\\\\GitHub\\\\DSAN_6600_FINAL\\\\Data\\\\Non_Dementia', 'c:\\\\Users\\\\z7567\\\\Documents\\\\GitHub\\\\DSAN_6600_FINAL\\\\Data\\\\Non_Dementia_Choice', 'c:\\\\Users\\\\z7567\\\\Documents\\\\GitHub\\\\DSAN_6600_FINAL\\\\Data\\\\Very_Mild_Dementia', 'c:\\\\Users\\\\z7567\\\\Documents\\\\GitHub\\\\DSAN_6600_FINAL\\\\Data\\\\Very_Mild_Dementia_Choice']\n",
      "Mild_Dementia 4122\n",
      "Mild_Dementia_Choice 880\n",
      "Moderate_Dementia 48\n",
      "Moderate_Dementia_Choice 880\n",
      "Non_Dementia 66342\n",
      "Non_Dementia_Choice 880\n",
      "Very_Mild_Dementia 12845\n",
      "Very_Mild_Dementia_Choice 880\n"
     ]
    }
   ],
   "source": [
    "folder_path = os.getcwd()\n",
    "subfolders = [f.path for f in os.scandir(folder_path) if f.is_dir()]\n",
    "print(subfolders)\n",
    "for subfolder in subfolders:\n",
    "    count = len([name for name in os.listdir(subfolder) if os.path.isfile(os.path.join(subfolder, name))])\n",
    "    print( f'{os.path.basename(subfolder)}', count)"
   ]
  }
 ],
 "metadata": {
  "kernelspec": {
   "display_name": "dsan6600-gpu",
   "language": "python",
   "name": "python3"
  },
  "language_info": {
   "codemirror_mode": {
    "name": "ipython",
    "version": 3
   },
   "file_extension": ".py",
   "mimetype": "text/x-python",
   "name": "python",
   "nbconvert_exporter": "python",
   "pygments_lexer": "ipython3",
   "version": "3.9.18"
  }
 },
 "nbformat": 4,
 "nbformat_minor": 2
}
